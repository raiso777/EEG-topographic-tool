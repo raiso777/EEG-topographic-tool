{
 "cells": [
  {
   "cell_type": "code",
   "execution_count": 1,
   "metadata": {},
   "outputs": [
    {
     "name": "stdout",
     "output_type": "stream",
     "text": [
      "The number of data point: 22\n"
     ]
    }
   ],
   "source": [
    "from __future__ import print_function\n",
    "from __future__ import division\n",
    "from __future__ import absolute_import\n",
    "\n",
    "import scipy\n",
    "from scipy import interpolate\n",
    "import numpy\n",
    "import matplotlib \n",
    "import matplotlib.pyplot as plt\n",
    "\n",
    "plt.close(\"all\")\n",
    "\n",
    "xy_center = [2,2]   # center of the plot\n",
    "radius = 2          # radius\n",
    "\n",
    "\n",
    "\n",
    "meanR = [0.220205393075769,0.459915422873668,0.692104706945417,0.892778025691491,0.654795045889065,0.446665818526566,0.213973985904014,0.893633365535914,0.900447022611394,0.900534798008672,0.897343571519619,0.882669413198854,0.203031630135678,0.427169411205853,1,0.895221814991827,0.786056383382168,0.470205181941590,0.564294288852314,0.657387950275000,0.647974534170298,0.191296374640933]\n",
    "\n",
    "\n",
    "koord = [[2,3.2],[0.8,2.6],[1.4,2.6],[2,2.6],[2.6,2.6],[3.2,2.6],[0.2,2],[0.8,2],[1.4,2],[2,2],[2.6,2],[3.2,2],[3.8,2],[0.8,1.4],[1.4,1.4],[2,1.4],[2.6,1.4],[3.2,1.4],[1.4,0.8],[2,0.8],[2.6,0.8],[2,0.2]]\n",
    "print(\"The number of data point: \"+str(len(koord)))"
   ]
  },
  {
   "cell_type": "code",
   "execution_count": 6,
   "metadata": {},
   "outputs": [],
   "source": [
    "x,y = [],[]\n",
    "for i in koord:\n",
    "    x.append(i[0])\n",
    "    y.append(i[1])\n",
    "\n",
    "z = meanR\n",
    "\n",
    "# 以下是插植，使用不同方法會得到差異頗大的 Topographic\n",
    "# 方法1\n",
    "f = interpolate.SmoothBivariateSpline(x, y, z)\n",
    "zi = f(xi, yi)\n",
    "#-----\n",
    "# 方法2\n",
    "#f = interpolate.interp2d(x, y, z, kind='cubic')\n",
    "#zi = f(xi, yi)\n",
    "#-----\n",
    "# 方法3\n",
    "#N = 500 \n",
    "#xi = numpy.linspace(-2, 6, N)\n",
    "#yi = numpy.linspace(-2, 6, N)\n",
    "#zi = scipy.interpolate.griddata((x, y), z, (xi[None,:], yi[:,None]), method='cubic')\n"
   ]
  },
  {
   "cell_type": "code",
   "execution_count": 7,
   "metadata": {},
   "outputs": [
    {
     "data": {
      "image/png": "[encoded data removed]",
      "text/plain": [
       "<Figure size 432x288 with 2 Axes>"
      ]
     },
     "metadata": {
      "needs_background": "light"
     },
     "output_type": "display_data"
    }
   ],
   "source": [
    "dr = xi[1] - xi[0]\n",
    "for i in range(N):\n",
    "    for j in range(N):\n",
    "        r = numpy.sqrt((xi[i] - xy_center[0])**2 + (yi[j] - xy_center[1])**2)\n",
    "        if (r - dr/2) > radius:\n",
    "            zi[j,i] = \"nan\"\n",
    "\n",
    "# make figure\n",
    "fig = plt.figure()\n",
    "\n",
    "# set aspect = 1 to make it a circle\n",
    "ax = fig.add_subplot(111, aspect = 1)\n",
    "\n",
    "# use different number of levels for the fill and the lines\n",
    "CS = ax.contourf(xi, yi, zi, 60, cmap = plt.cm.jet, zorder = 1)\n",
    "#ax.contour(xi, yi, zi, 15, colors = \"grey\", zorder = 2)\n",
    "\n",
    "# make a color bar\n",
    "cbar = fig.colorbar(CS, ax=ax)\n",
    "\n",
    "# add the data points\n",
    "# I guess there are no data points outside the head...\n",
    "ax.scatter(x, y, marker = 'o', c = 'b', s = 15, zorder = 3)\n",
    "\n",
    "# draw a circle\n",
    "# change the linewidth to hide the \n",
    "circle = matplotlib.patches.Circle(xy = xy_center, radius = radius, edgecolor = \"k\", facecolor = \"none\")\n",
    "ax.add_patch(circle)\n",
    "\n",
    "# make the axis invisible \n",
    "for loc, spine in ax.spines.items():\n",
    "    # use ax.spines.items() in Python 3\n",
    "    spine.set_linewidth(0)\n",
    "\n",
    "# remove the ticks\n",
    "ax.set_xticks([])\n",
    "ax.set_yticks([])\n",
    "\n",
    "# Add some body parts. Hide unwanted parts by setting the zorder low\n",
    "# add two ears\n",
    "circle = matplotlib.patches.Ellipse(xy = [0,2], width = 0.5, height = 1.0, angle = 0, edgecolor = \"k\", facecolor = \"w\", zorder = 0)\n",
    "ax.add_patch(circle)\n",
    "circle = matplotlib.patches.Ellipse(xy = [4,2], width = 0.5, height = 1.0, angle = 0, edgecolor = \"k\", facecolor = \"w\", zorder = 0)\n",
    "ax.add_patch(circle)\n",
    "# add a nose\n",
    "xy = [[1.5,3.9], [2,4.5],[2.5,3.9]]\n",
    "polygon = matplotlib.patches.Polygon(xy = xy, edgecolor = \"k\", facecolor = \"w\", zorder = 0)\n",
    "ax.add_patch(polygon) \n",
    "\n",
    "# set axes limits\n",
    "ax.set_xlim(-0.5, 4.5)\n",
    "ax.set_ylim(-0.5, 4.5)\n",
    "\n",
    "plt.show() \n"
   ]
  },
  {
   "cell_type": "markdown",
   "metadata": {},
   "source": [
    "## Reference\n",
    "[](https://stackoverflow.com/questions/15361143/how-to-fit-result-of-matplotlib-pyplot-contourf-into-circle)"
   ]
  }
 ],
 "metadata": {
  "kernelspec": {
   "display_name": "Python 3",
   "language": "python",
   "name": "python3"
  },
  "language_info": {
   "codemirror_mode": {
    "name": "ipython",
    "version": 3
   },
   "file_extension": ".py",
   "mimetype": "text/x-python",
   "name": "python",
   "nbconvert_exporter": "python",
   "pygments_lexer": "ipython3",
   "version": "3.7.4"
  }
 },
 "nbformat": 4,
 "nbformat_minor": 4
}
